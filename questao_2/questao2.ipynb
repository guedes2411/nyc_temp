{
  "nbformat": 4,
  "nbformat_minor": 0,
  "metadata": {
    "colab": {
      "name": "questao2.ipynb",
      "provenance": []
    },
    "kernelspec": {
      "name": "python3",
      "display_name": "Python 3"
    }
  },
  "cells": [
    {
      "cell_type": "code",
      "metadata": {
        "id": "IT9a3zif1Zf2",
        "colab_type": "code",
        "colab": {}
      },
      "source": [
        "#importando biblioteca\n",
        "import pandas as pd"
      ],
      "execution_count": 3,
      "outputs": []
    },
    {
      "cell_type": "code",
      "metadata": {
        "id": "u2DSobFd2C1s",
        "colab_type": "code",
        "colab": {}
      },
      "source": [
        "#carregando arquivo apenas as colunas solicitadas\n",
        "df = pd.read_csv('/content/AB_NYC_2019.csv', usecols = [0, 2, 9, 11, 12])"
      ],
      "execution_count": 8,
      "outputs": []
    },
    {
      "cell_type": "code",
      "metadata": {
        "id": "zmkt0rH93L90",
        "colab_type": "code",
        "colab": {}
      },
      "source": [
        "#salvando em novo arquivo csv\n",
        "df.to_csv(r'/content/colunas_selecionadas.csv', index = False)"
      ],
      "execution_count": 10,
      "outputs": []
    }
  ]
}